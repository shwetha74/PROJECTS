{
 "cells": [
  {
   "cell_type": "markdown",
   "id": "1fde9489",
   "metadata": {},
   "source": [
    "\n",
    "**Recommending movies using Collaborative Filtering**"
   ]
  },
  {
   "cell_type": "code",
   "execution_count": null,
   "id": "0490da35",
   "metadata": {},
   "outputs": [],
   "source": []
  },
  {
   "cell_type": "code",
   "execution_count": 2,
   "id": "596bfaf2",
   "metadata": {},
   "outputs": [],
   "source": [
    "import numpy as np\n",
    "import pandas as pd\n",
    "from scipy.spatial.distance import hamming"
   ]
  },
  {
   "cell_type": "code",
   "execution_count": 3,
   "id": "937e34e7",
   "metadata": {},
   "outputs": [],
   "source": [
    "import warnings\n",
    "warnings.simplefilter(action='ignore',category=Warning)"
   ]
  },
  {
   "cell_type": "code",
   "execution_count": 5,
   "id": "e73cf2d3",
   "metadata": {},
   "outputs": [],
   "source": [
    "df_ratings=pd.read_csv('recent_ratings.csv')\n",
    "df_movies=pd.read_csv('recent_movies.csv')"
   ]
  },
  {
   "cell_type": "code",
   "execution_count": 6,
   "id": "1d6f365b",
   "metadata": {},
   "outputs": [
    {
     "data": {
      "text/plain": [
       "((552, 4), (188, 4))"
      ]
     },
     "execution_count": 6,
     "metadata": {},
     "output_type": "execute_result"
    }
   ],
   "source": [
    "df_ratings.shape,df_movies.shape"
   ]
  },
  {
   "cell_type": "code",
   "execution_count": 7,
   "id": "cb2a09ac",
   "metadata": {},
   "outputs": [
    {
     "data": {
      "text/plain": [
       "63"
      ]
     },
     "execution_count": 7,
     "metadata": {},
     "output_type": "execute_result"
    }
   ],
   "source": [
    "df_ratings.userId.unique().size"
   ]
  },
  {
   "cell_type": "code",
   "execution_count": 10,
   "id": "f7d55202",
   "metadata": {},
   "outputs": [
    {
     "data": {
      "text/plain": [
       "188"
      ]
     },
     "execution_count": 10,
     "metadata": {},
     "output_type": "execute_result"
    }
   ],
   "source": [
    "df_ratings.movieId.unique().size"
   ]
  },
  {
   "cell_type": "code",
   "execution_count": 11,
   "id": "92ec386a",
   "metadata": {},
   "outputs": [
    {
     "data": {
      "text/html": [
       "<div>\n",
       "<style scoped>\n",
       "    .dataframe tbody tr th:only-of-type {\n",
       "        vertical-align: middle;\n",
       "    }\n",
       "\n",
       "    .dataframe tbody tr th {\n",
       "        vertical-align: top;\n",
       "    }\n",
       "\n",
       "    .dataframe thead th {\n",
       "        text-align: right;\n",
       "    }\n",
       "</style>\n",
       "<table border=\"1\" class=\"dataframe\">\n",
       "  <thead>\n",
       "    <tr style=\"text-align: right;\">\n",
       "      <th></th>\n",
       "      <th>userId</th>\n",
       "      <th>movieId</th>\n",
       "      <th>rating</th>\n",
       "      <th>timestamp</th>\n",
       "    </tr>\n",
       "  </thead>\n",
       "  <tbody>\n",
       "    <tr>\n",
       "      <th>329</th>\n",
       "      <td>380</td>\n",
       "      <td>122898</td>\n",
       "      <td>3.0</td>\n",
       "      <td>1536872751</td>\n",
       "    </tr>\n",
       "    <tr>\n",
       "      <th>362</th>\n",
       "      <td>414</td>\n",
       "      <td>122918</td>\n",
       "      <td>4.0</td>\n",
       "      <td>1513958808</td>\n",
       "    </tr>\n",
       "    <tr>\n",
       "      <th>254</th>\n",
       "      <td>249</td>\n",
       "      <td>184253</td>\n",
       "      <td>4.0</td>\n",
       "      <td>1518388863</td>\n",
       "    </tr>\n",
       "    <tr>\n",
       "      <th>316</th>\n",
       "      <td>338</td>\n",
       "      <td>189043</td>\n",
       "      <td>2.5</td>\n",
       "      <td>1530148447</td>\n",
       "    </tr>\n",
       "    <tr>\n",
       "      <th>184</th>\n",
       "      <td>210</td>\n",
       "      <td>122906</td>\n",
       "      <td>4.5</td>\n",
       "      <td>1537632293</td>\n",
       "    </tr>\n",
       "  </tbody>\n",
       "</table>\n",
       "</div>"
      ],
      "text/plain": [
       "     userId  movieId  rating   timestamp\n",
       "329     380   122898     3.0  1536872751\n",
       "362     414   122918     4.0  1513958808\n",
       "254     249   184253     4.0  1518388863\n",
       "316     338   189043     2.5  1530148447\n",
       "184     210   122906     4.5  1537632293"
      ]
     },
     "execution_count": 11,
     "metadata": {},
     "output_type": "execute_result"
    }
   ],
   "source": [
    "df_ratings.sample(5)"
   ]
  },
  {
   "cell_type": "code",
   "execution_count": 12,
   "id": "2f97a83b",
   "metadata": {},
   "outputs": [],
   "source": [
    "df_ratings.drop(columns=['timestamp'],inplace=True)"
   ]
  },
  {
   "cell_type": "code",
   "execution_count": 13,
   "id": "4c0cd3cf",
   "metadata": {},
   "outputs": [
    {
     "data": {
      "text/html": [
       "<div>\n",
       "<style scoped>\n",
       "    .dataframe tbody tr th:only-of-type {\n",
       "        vertical-align: middle;\n",
       "    }\n",
       "\n",
       "    .dataframe tbody tr th {\n",
       "        vertical-align: top;\n",
       "    }\n",
       "\n",
       "    .dataframe thead th {\n",
       "        text-align: right;\n",
       "    }\n",
       "</style>\n",
       "<table border=\"1\" class=\"dataframe\">\n",
       "  <thead>\n",
       "    <tr style=\"text-align: right;\">\n",
       "      <th></th>\n",
       "      <th>userId</th>\n",
       "      <th>movieId</th>\n",
       "      <th>rating</th>\n",
       "    </tr>\n",
       "  </thead>\n",
       "  <tbody>\n",
       "    <tr>\n",
       "      <th>65</th>\n",
       "      <td>89</td>\n",
       "      <td>176805</td>\n",
       "      <td>4.0</td>\n",
       "    </tr>\n",
       "    <tr>\n",
       "      <th>453</th>\n",
       "      <td>567</td>\n",
       "      <td>122898</td>\n",
       "      <td>2.0</td>\n",
       "    </tr>\n",
       "    <tr>\n",
       "      <th>180</th>\n",
       "      <td>184</td>\n",
       "      <td>193587</td>\n",
       "      <td>3.5</td>\n",
       "    </tr>\n",
       "    <tr>\n",
       "      <th>534</th>\n",
       "      <td>599</td>\n",
       "      <td>178061</td>\n",
       "      <td>3.0</td>\n",
       "    </tr>\n",
       "    <tr>\n",
       "      <th>301</th>\n",
       "      <td>318</td>\n",
       "      <td>188833</td>\n",
       "      <td>4.5</td>\n",
       "    </tr>\n",
       "  </tbody>\n",
       "</table>\n",
       "</div>"
      ],
      "text/plain": [
       "     userId  movieId  rating\n",
       "65       89   176805     4.0\n",
       "453     567   122898     2.0\n",
       "180     184   193587     3.5\n",
       "534     599   178061     3.0\n",
       "301     318   188833     4.5"
      ]
     },
     "execution_count": 13,
     "metadata": {},
     "output_type": "execute_result"
    }
   ],
   "source": [
    "df_ratings.sample(5)"
   ]
  },
  {
   "cell_type": "code",
   "execution_count": 14,
   "id": "3ea8e9a7",
   "metadata": {},
   "outputs": [],
   "source": [
    "ratings=df_ratings.pivot(index='userId',columns='movieId',values='rating')"
   ]
  },
  {
   "cell_type": "code",
   "execution_count": 15,
   "id": "44b1b529",
   "metadata": {},
   "outputs": [
    {
     "data": {
      "text/html": [
       "<div>\n",
       "<style scoped>\n",
       "    .dataframe tbody tr th:only-of-type {\n",
       "        vertical-align: middle;\n",
       "    }\n",
       "\n",
       "    .dataframe tbody tr th {\n",
       "        vertical-align: top;\n",
       "    }\n",
       "\n",
       "    .dataframe thead th {\n",
       "        text-align: right;\n",
       "    }\n",
       "</style>\n",
       "<table border=\"1\" class=\"dataframe\">\n",
       "  <thead>\n",
       "    <tr style=\"text-align: right;\">\n",
       "      <th>movieId</th>\n",
       "      <th>122896</th>\n",
       "      <th>122898</th>\n",
       "      <th>122906</th>\n",
       "      <th>122912</th>\n",
       "      <th>122916</th>\n",
       "      <th>122918</th>\n",
       "      <th>122926</th>\n",
       "      <th>143355</th>\n",
       "      <th>166534</th>\n",
       "      <th>167064</th>\n",
       "      <th>...</th>\n",
       "      <th>189381</th>\n",
       "      <th>189713</th>\n",
       "      <th>190183</th>\n",
       "      <th>190209</th>\n",
       "      <th>190215</th>\n",
       "      <th>191005</th>\n",
       "      <th>193581</th>\n",
       "      <th>193583</th>\n",
       "      <th>193585</th>\n",
       "      <th>193587</th>\n",
       "    </tr>\n",
       "    <tr>\n",
       "      <th>userId</th>\n",
       "      <th></th>\n",
       "      <th></th>\n",
       "      <th></th>\n",
       "      <th></th>\n",
       "      <th></th>\n",
       "      <th></th>\n",
       "      <th></th>\n",
       "      <th></th>\n",
       "      <th></th>\n",
       "      <th></th>\n",
       "      <th></th>\n",
       "      <th></th>\n",
       "      <th></th>\n",
       "      <th></th>\n",
       "      <th></th>\n",
       "      <th></th>\n",
       "      <th></th>\n",
       "      <th></th>\n",
       "      <th></th>\n",
       "      <th></th>\n",
       "      <th></th>\n",
       "    </tr>\n",
       "  </thead>\n",
       "  <tbody>\n",
       "    <tr>\n",
       "      <th>401</th>\n",
       "      <td>NaN</td>\n",
       "      <td>NaN</td>\n",
       "      <td>NaN</td>\n",
       "      <td>NaN</td>\n",
       "      <td>NaN</td>\n",
       "      <td>4.5</td>\n",
       "      <td>NaN</td>\n",
       "      <td>NaN</td>\n",
       "      <td>NaN</td>\n",
       "      <td>NaN</td>\n",
       "      <td>...</td>\n",
       "      <td>NaN</td>\n",
       "      <td>NaN</td>\n",
       "      <td>NaN</td>\n",
       "      <td>NaN</td>\n",
       "      <td>NaN</td>\n",
       "      <td>NaN</td>\n",
       "      <td>NaN</td>\n",
       "      <td>NaN</td>\n",
       "      <td>NaN</td>\n",
       "      <td>NaN</td>\n",
       "    </tr>\n",
       "    <tr>\n",
       "      <th>433</th>\n",
       "      <td>NaN</td>\n",
       "      <td>NaN</td>\n",
       "      <td>NaN</td>\n",
       "      <td>NaN</td>\n",
       "      <td>NaN</td>\n",
       "      <td>NaN</td>\n",
       "      <td>NaN</td>\n",
       "      <td>NaN</td>\n",
       "      <td>NaN</td>\n",
       "      <td>NaN</td>\n",
       "      <td>...</td>\n",
       "      <td>NaN</td>\n",
       "      <td>NaN</td>\n",
       "      <td>NaN</td>\n",
       "      <td>NaN</td>\n",
       "      <td>NaN</td>\n",
       "      <td>NaN</td>\n",
       "      <td>NaN</td>\n",
       "      <td>NaN</td>\n",
       "      <td>NaN</td>\n",
       "      <td>NaN</td>\n",
       "    </tr>\n",
       "    <tr>\n",
       "      <th>511</th>\n",
       "      <td>NaN</td>\n",
       "      <td>NaN</td>\n",
       "      <td>NaN</td>\n",
       "      <td>NaN</td>\n",
       "      <td>4.0</td>\n",
       "      <td>NaN</td>\n",
       "      <td>NaN</td>\n",
       "      <td>NaN</td>\n",
       "      <td>NaN</td>\n",
       "      <td>NaN</td>\n",
       "      <td>...</td>\n",
       "      <td>NaN</td>\n",
       "      <td>NaN</td>\n",
       "      <td>NaN</td>\n",
       "      <td>NaN</td>\n",
       "      <td>NaN</td>\n",
       "      <td>NaN</td>\n",
       "      <td>NaN</td>\n",
       "      <td>NaN</td>\n",
       "      <td>NaN</td>\n",
       "      <td>NaN</td>\n",
       "    </tr>\n",
       "    <tr>\n",
       "      <th>551</th>\n",
       "      <td>NaN</td>\n",
       "      <td>NaN</td>\n",
       "      <td>NaN</td>\n",
       "      <td>NaN</td>\n",
       "      <td>NaN</td>\n",
       "      <td>4.0</td>\n",
       "      <td>NaN</td>\n",
       "      <td>NaN</td>\n",
       "      <td>NaN</td>\n",
       "      <td>NaN</td>\n",
       "      <td>...</td>\n",
       "      <td>NaN</td>\n",
       "      <td>NaN</td>\n",
       "      <td>NaN</td>\n",
       "      <td>NaN</td>\n",
       "      <td>NaN</td>\n",
       "      <td>NaN</td>\n",
       "      <td>NaN</td>\n",
       "      <td>NaN</td>\n",
       "      <td>NaN</td>\n",
       "      <td>NaN</td>\n",
       "    </tr>\n",
       "    <tr>\n",
       "      <th>414</th>\n",
       "      <td>NaN</td>\n",
       "      <td>NaN</td>\n",
       "      <td>4.0</td>\n",
       "      <td>NaN</td>\n",
       "      <td>4.0</td>\n",
       "      <td>4.0</td>\n",
       "      <td>4.5</td>\n",
       "      <td>4.5</td>\n",
       "      <td>NaN</td>\n",
       "      <td>NaN</td>\n",
       "      <td>...</td>\n",
       "      <td>NaN</td>\n",
       "      <td>NaN</td>\n",
       "      <td>NaN</td>\n",
       "      <td>NaN</td>\n",
       "      <td>NaN</td>\n",
       "      <td>NaN</td>\n",
       "      <td>NaN</td>\n",
       "      <td>NaN</td>\n",
       "      <td>NaN</td>\n",
       "      <td>NaN</td>\n",
       "    </tr>\n",
       "  </tbody>\n",
       "</table>\n",
       "<p>5 rows × 188 columns</p>\n",
       "</div>"
      ],
      "text/plain": [
       "movieId  122896  122898  122906  122912  122916  122918  122926  143355  \\\n",
       "userId                                                                    \n",
       "401         NaN     NaN     NaN     NaN     NaN     4.5     NaN     NaN   \n",
       "433         NaN     NaN     NaN     NaN     NaN     NaN     NaN     NaN   \n",
       "511         NaN     NaN     NaN     NaN     4.0     NaN     NaN     NaN   \n",
       "551         NaN     NaN     NaN     NaN     NaN     4.0     NaN     NaN   \n",
       "414         NaN     NaN     4.0     NaN     4.0     4.0     4.5     4.5   \n",
       "\n",
       "movieId  166534  167064  ...  189381  189713  190183  190209  190215  191005  \\\n",
       "userId                   ...                                                   \n",
       "401         NaN     NaN  ...     NaN     NaN     NaN     NaN     NaN     NaN   \n",
       "433         NaN     NaN  ...     NaN     NaN     NaN     NaN     NaN     NaN   \n",
       "511         NaN     NaN  ...     NaN     NaN     NaN     NaN     NaN     NaN   \n",
       "551         NaN     NaN  ...     NaN     NaN     NaN     NaN     NaN     NaN   \n",
       "414         NaN     NaN  ...     NaN     NaN     NaN     NaN     NaN     NaN   \n",
       "\n",
       "movieId  193581  193583  193585  193587  \n",
       "userId                                   \n",
       "401         NaN     NaN     NaN     NaN  \n",
       "433         NaN     NaN     NaN     NaN  \n",
       "511         NaN     NaN     NaN     NaN  \n",
       "551         NaN     NaN     NaN     NaN  \n",
       "414         NaN     NaN     NaN     NaN  \n",
       "\n",
       "[5 rows x 188 columns]"
      ]
     },
     "execution_count": 15,
     "metadata": {},
     "output_type": "execute_result"
    }
   ],
   "source": [
    "ratings.sample(5)"
   ]
  },
  {
   "cell_type": "markdown",
   "id": "34424967",
   "metadata": {},
   "source": [
    "**Hamming Distance**\n",
    "Measures how different two sequences are. It is % of disagreement. A value of 1 indicates sequences are very different, 0 indicates they are very similar."
   ]
  },
  {
   "cell_type": "code",
   "execution_count": 16,
   "id": "a439d517",
   "metadata": {},
   "outputs": [
    {
     "name": "stdout",
     "output_type": "stream",
     "text": [
      "0.0\n",
      "0.6666666666666666\n"
     ]
    }
   ],
   "source": [
    "l1=(1,2,3)\n",
    "l2=(1,2,3)\n",
    "l3=(1,4,5)\n",
    "print(hamming(l1,l2))\n",
    "print(hamming(l1,l3))"
   ]
  },
  {
   "cell_type": "code",
   "execution_count": 17,
   "id": "b22e9432",
   "metadata": {},
   "outputs": [],
   "source": [
    "def hamming_distance(user1,user2):\n",
    "    try:\n",
    "        user1_ratings=ratings.loc[user1,:]\n",
    "        user2_ratings=ratings.loc[user2,:]\n",
    "        distance=hamming(user1_ratings,user2_ratings)\n",
    "    except:\n",
    "        distance=np.NaN\n",
    "    return distance"
   ]
  },
  {
   "cell_type": "code",
   "execution_count": 19,
   "id": "a3698277",
   "metadata": {},
   "outputs": [],
   "source": [
    "def get_nearest_users(active_user,k=10):\n",
    "    all_users=pd.DataFrame(ratings.index)\n",
    "    other_users=all_users[all_users.userId!=active_user]\n",
    "    other_users['distance'] = other_users['userId'].apply(lambda x: hamming_distance(active_user,x))\n",
    "        # find out hamming distance and return users with low hamming distance from active user \n",
    "    return  other_users.sort_values(['distance'], ascending = True).userId[:k]"
   ]
  },
  {
   "cell_type": "code",
   "execution_count": 20,
   "id": "696d0feb",
   "metadata": {},
   "outputs": [],
   "source": [
    "def get_recommended_movies(ratings,movies, user,top=5):\n",
    "    # Find out nearest neighbours based on hamming distance \n",
    "    nn_users = get_nearest_users(user,10)\n",
    "    \n",
    "    # Get ratings of other nearest neighbours(users)\n",
    "    nn_ratings = ratings[ratings.index.isin(nn_users)]\n",
    "    \n",
    "    # Average ratings gived by nearest neighbours for all movies\n",
    "    avg_ratings = nn_ratings.apply(np.nanmean).dropna()\n",
    "    \n",
    "    # Find out movies that user had already watched\n",
    "    movies_watched = ratings.transpose()[user].dropna().index\n",
    "    \n",
    "    # remove movies that user already watched\n",
    "    avg_ratings = avg_ratings[~ avg_ratings.index.isin(movies_watched)]\n",
    "    \n",
    "    # Findout top n movies based on avg ratings given by other nearest neighbours \n",
    "    top_movies_ids = avg_ratings.sort_values(ascending=False).index[:top]\n",
    "   \n",
    "    # Return recommended movies \n",
    "    return movies[movies.movieId.isin(top_movies_ids)].title"
   ]
  },
  {
   "cell_type": "code",
   "execution_count": 21,
   "id": "4b4c2bd4",
   "metadata": {},
   "outputs": [
    {
     "data": {
      "text/plain": [
       "array([ 18,  21,  25,  49,  50,  62,  68,  89,  98, 103, 105, 111, 119,\n",
       "       125, 153, 184, 205, 209, 210, 212, 233, 248, 249, 252, 258, 272,\n",
       "       279, 296, 305, 306, 318, 331, 338, 339, 362, 363, 380, 400, 401,\n",
       "       414, 417, 433, 448, 459, 462, 471, 475, 491, 511, 514, 515, 517,\n",
       "       523, 548, 551, 556, 561, 567, 586, 596, 599, 601, 610], dtype=int64)"
      ]
     },
     "execution_count": 21,
     "metadata": {},
     "output_type": "execute_result"
    }
   ],
   "source": [
    "df_ratings.userId.unique()    # Unique userids"
   ]
  },
  {
   "cell_type": "code",
   "execution_count": 22,
   "id": "6bb8c728",
   "metadata": {},
   "outputs": [
    {
     "data": {
      "text/plain": [
       "22                                 The Boss Baby (2017)\n",
       "56                               Tickling Giants (2017)\n",
       "97     Three Billboards Outside Ebbing, Missouri (2017)\n",
       "105                                 Paddington 2 (2017)\n",
       "145                                 Isle of Dogs (2018)\n",
       "Name: title, dtype: object"
      ]
     },
     "execution_count": 22,
     "metadata": {},
     "output_type": "execute_result"
    }
   ],
   "source": [
    "get_recommended_movies(ratings,df_movies,249,5)"
   ]
  },
  {
   "cell_type": "code",
   "execution_count": 23,
   "id": "322f1b3f",
   "metadata": {},
   "outputs": [
    {
     "data": {
      "text/plain": [
       "3     Avengers: Infinity War - Part I (2018)\n",
       "12              The Lego Batman Movie (2017)\n",
       "15             John Wick: Chapter Two (2017)\n",
       "20                       The Big Sick (2017)\n",
       "23               Call Me by Your Name (2017)\n",
       "Name: title, dtype: object"
      ]
     },
     "execution_count": 23,
     "metadata": {},
     "output_type": "execute_result"
    }
   ],
   "source": [
    "get_recommended_movies(ratings,df_movies, 433,5)"
   ]
  },
  {
   "cell_type": "code",
   "execution_count": null,
   "id": "b0dd379a",
   "metadata": {},
   "outputs": [],
   "source": []
  }
 ],
 "metadata": {
  "kernelspec": {
   "display_name": "Python 3",
   "language": "python",
   "name": "python3"
  },
  "language_info": {
   "codemirror_mode": {
    "name": "ipython",
    "version": 3
   },
   "file_extension": ".py",
   "mimetype": "text/x-python",
   "name": "python",
   "nbconvert_exporter": "python",
   "pygments_lexer": "ipython3",
   "version": "3.8.8"
  }
 },
 "nbformat": 4,
 "nbformat_minor": 5
}
